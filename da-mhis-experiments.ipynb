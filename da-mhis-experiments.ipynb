{
 "cells": [
  {
   "cell_type": "code",
   "execution_count": 1,
   "id": "4b56b481",
   "metadata": {},
   "outputs": [],
   "source": [
    "import torch as th\n",
    "import sys\n",
    "import os\n",
    "import certifi\n",
    "import matplotlib.pyplot as plt\n",
    "from lpe.methods import MHIS\n",
    "from lpe.method_utils import *\n",
    "from lpe.utils import Transformer\n",
    "from lpe.utils import datasets as lpe_datasets\n",
    "from lpe.utils.model_adapter import ModelAdapter\n",
    "from lpe.da_mhis import DA_MHIS\n",
    "from transformers import AutoTokenizer, AutoModelForCausalLM"
   ]
  },
  {
   "cell_type": "code",
   "execution_count": 2,
   "id": "fc6f20d5",
   "metadata": {},
   "outputs": [
    {
     "data": {
      "text/plain": [
       "device(type='cuda')"
      ]
     },
     "execution_count": 2,
     "metadata": {},
     "output_type": "execute_result"
    }
   ],
   "source": [
    "# Set device\n",
    "device = th.device('cuda' if th.cuda.is_available() else 'cpu')\n",
    "device"
   ]
  },
  {
   "cell_type": "code",
   "execution_count": 3,
   "id": "5099e56a",
   "metadata": {},
   "outputs": [],
   "source": [
    "# Set model name\n",
    "model_name = 'openai-community/gpt2' # or 'gelu-1l' or whatever"
   ]
  },
  {
   "cell_type": "code",
   "execution_count": null,
   "id": "e0fa6d30",
   "metadata": {},
   "outputs": [],
   "source": [
    "# Run if toy model\n",
    "model = Transformer.from_pretrained(model_name).to(device)"
   ]
  },
  {
   "cell_type": "code",
   "execution_count": 4,
   "id": "a3637c17",
   "metadata": {},
   "outputs": [],
   "source": [
    "# Run if HF model\n",
    "tokenizer = AutoTokenizer.from_pretrained(model_name)\n",
    "tokenizer.pad_token = tokenizer.eos_token\n",
    "hf_model = AutoModelForCausalLM.from_pretrained(model_name).to(device)\n",
    "model = ModelAdapter(hf_model, tokenizer, device=device)"
   ]
  },
  {
   "cell_type": "code",
   "execution_count": 5,
   "id": "b9043bd8",
   "metadata": {},
   "outputs": [
    {
     "name": "stderr",
     "output_type": "stream",
     "text": [
      "Repo card metadata block was not found. Setting CardData to empty.\n"
     ]
    },
    {
     "data": {
      "application/vnd.jupyter.widget-view+json": {
       "model_id": "2b492d9357c747f7a94b649a1f6362f3",
       "version_major": 2,
       "version_minor": 0
      },
      "text/plain": [
       "Resolving data files:   0%|          | 0/53 [00:00<?, ?it/s]"
      ]
     },
     "metadata": {},
     "output_type": "display_data"
    },
    {
     "name": "stderr",
     "output_type": "stream",
     "text": [
      "  0%|          | 1/1024 [00:02<41:59,  2.46s/it]Token indices sequence length is longer than the specified maximum sequence length for this model (12044 > 1024). Running this sequence through the model will result in indexing errors\n",
      "100%|██████████| 1024/1024 [00:06<00:00, 160.37it/s]\n"
     ]
    }
   ],
   "source": [
    "dist_name = 'camel'\n",
    "behavior = distribution_registry[dist_name](model.tokenizer, device=model.device)\n",
    "orig_dists = behavior.input_dists(n_reps=N_REPS_DICT[dist_name])"
   ]
  },
  {
   "cell_type": "code",
   "execution_count": 6,
   "id": "7b925a8d",
   "metadata": {},
   "outputs": [
    {
     "name": "stderr",
     "output_type": "stream",
     "text": [
      "100%|██████████| 640/640 [00:32<00:00, 19.51it/s]"
     ]
    },
    {
     "name": "stdout",
     "output_type": "stream",
     "text": [
      "0.0\n"
     ]
    },
    {
     "name": "stderr",
     "output_type": "stream",
     "text": [
      "\n"
     ]
    }
   ],
   "source": [
    "target = 123  # some token id\n",
    "temp = 1.0    # tune as needed\n",
    "ests = DA_MHIS(model, orig_dists, target, temp=temp, n_samples=2**12, burn_in=2**9, show_progress=True)\n",
    "print(ests)"
   ]
  },
  {
   "cell_type": "code",
   "execution_count": null,
   "id": "7e534aff-44fd-412e-8bc6-6c3ce0fcc51e",
   "metadata": {},
   "outputs": [],
   "source": []
  }
 ],
 "metadata": {
  "kernelspec": {
   "display_name": "Python 3 (ipykernel)",
   "language": "python",
   "name": "python3"
  },
  "language_info": {
   "codemirror_mode": {
    "name": "ipython",
    "version": 3
   },
   "file_extension": ".py",
   "mimetype": "text/x-python",
   "name": "python",
   "nbconvert_exporter": "python",
   "pygments_lexer": "ipython3",
   "version": "3.11.11"
  }
 },
 "nbformat": 4,
 "nbformat_minor": 5
}
