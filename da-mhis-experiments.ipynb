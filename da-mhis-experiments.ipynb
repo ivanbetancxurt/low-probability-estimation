{
 "cells": [
  {
   "cell_type": "code",
   "execution_count": 4,
   "id": "4b56b481",
   "metadata": {},
   "outputs": [],
   "source": [
    "import torch as th\n",
    "import sys\n",
    "import os\n",
    "import certifi\n",
    "import matplotlib.pyplot as plt\n",
    "from lpe.methods import MHIS\n",
    "from lpe.method_utils import *\n",
    "from lpe.utils import Transformer\n",
    "from lpe.utils import datasets as lpe_datasets\n",
    "from lpe.utils.model_adapter import ModelAdapter\n",
    "from lpe.da_mhis import DA_MHIS\n",
    "from transformers import AutoTokenizer, AutoModelForCausalLM"
   ]
  },
  {
   "cell_type": "code",
   "execution_count": null,
   "id": "fc6f20d5",
   "metadata": {},
   "outputs": [],
   "source": [
    "# Set device\n",
    "device = th.device('cuda' if th.cuda.is_available() else 'cpu')\n",
    "device"
   ]
  },
  {
   "cell_type": "code",
   "execution_count": null,
   "id": "5099e56a",
   "metadata": {},
   "outputs": [],
   "source": [
    "# Set model name\n",
    "model_name = 'openai-community/gpt2' # or 'gelu-1l' or whatever"
   ]
  },
  {
   "cell_type": "code",
   "execution_count": null,
   "id": "e0fa6d30",
   "metadata": {},
   "outputs": [],
   "source": [
    "# Run if toy model\n",
    "model = Transformer.from_pretrained(model_name).to(device)"
   ]
  },
  {
   "cell_type": "code",
   "execution_count": null,
   "id": "a3637c17",
   "metadata": {},
   "outputs": [],
   "source": [
    "# Run if HF model\n",
    "tokenizer = AutoTokenizer.from_pretrained(model_name)\n",
    "tokenizer.pad_token = tokenizer.eos_token\n",
    "hf_model = AutoModelForCausalLM.from_pretrained(model_name).to(device)\n",
    "model = ModelAdapter(hf_model, tokenizer, device=device)"
   ]
  },
  {
   "cell_type": "code",
   "execution_count": null,
   "id": "b9043bd8",
   "metadata": {},
   "outputs": [],
   "source": [
    "dist_name = 'camel'\n",
    "behavior = distribution_registry[dist_name](model.tokenizer, device=model.device)\n",
    "orig_dists = behavior.input_dists(n_reps=N_REPS_DICT[dist_name])"
   ]
  },
  {
   "cell_type": "code",
   "execution_count": null,
   "id": "7b925a8d",
   "metadata": {},
   "outputs": [],
   "source": [
    "target = 123  # some token id\n",
    "temp = 1.0    # tune as needed\n",
    "ests = DA_MHIS(model, orig_dists, target, temp=temp, n_smaples=2**12, burn_in=2**9, show_progress=True)\n",
    "print(ests)"
   ]
  }
 ],
 "metadata": {
  "kernelspec": {
   "display_name": "Python 3",
   "language": "python",
   "name": "python3"
  },
  "language_info": {
   "codemirror_mode": {
    "name": "ipython",
    "version": 3
   },
   "file_extension": ".py",
   "mimetype": "text/x-python",
   "name": "python",
   "nbconvert_exporter": "python",
   "pygments_lexer": "ipython3",
   "version": "3.12.4"
  }
 },
 "nbformat": 4,
 "nbformat_minor": 5
}
