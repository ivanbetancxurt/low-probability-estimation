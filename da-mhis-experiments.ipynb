{
 "cells": [
  {
   "cell_type": "code",
   "execution_count": 1,
   "id": "4b56b481",
   "metadata": {},
   "outputs": [],
   "source": [
    "import torch as th\n",
    "import sys\n",
    "import os\n",
    "import certifi\n",
    "import matplotlib.pyplot as plt\n",
    "from lpe.methods import MHIS\n",
    "from lpe.method_utils import *\n",
    "from lpe.utils import Transformer\n",
    "from lpe.utils import datasets as lpe_datasets\n",
    "from lpe.utils.model_adapter import ModelAdapter\n",
    "from lpe.da_mhis import DA_MHIS\n",
    "from transformers import AutoTokenizer, AutoModelForCausalLM"
   ]
  },
  {
   "cell_type": "code",
   "execution_count": 2,
   "id": "fc6f20d5",
   "metadata": {},
   "outputs": [
    {
     "data": {
      "text/plain": [
       "device(type='cuda')"
      ]
     },
     "execution_count": 2,
     "metadata": {},
     "output_type": "execute_result"
    }
   ],
   "source": [
    "# Set device\n",
    "device = th.device('cuda' if th.cuda.is_available() else 'cpu')\n",
    "device"
   ]
  },
  {
   "cell_type": "code",
   "execution_count": 3,
   "id": "5099e56a",
   "metadata": {},
   "outputs": [],
   "source": [
    "# Set model name\n",
    "model_name = 'openai-community/gpt2' # or 'gelu-1l' or whatever"
   ]
  },
  {
   "cell_type": "code",
   "execution_count": null,
   "id": "e0fa6d30",
   "metadata": {},
   "outputs": [],
   "source": [
    "# Run if toy model\n",
    "model = Transformer.from_pretrained(model_name).to(device)"
   ]
  },
  {
   "cell_type": "code",
   "execution_count": 4,
   "id": "a3637c17",
   "metadata": {},
   "outputs": [],
   "source": [
    "# Run if HF model\n",
    "tokenizer = AutoTokenizer.from_pretrained(model_name)\n",
    "tokenizer.pad_token = tokenizer.eos_token\n",
    "hf_model = AutoModelForCausalLM.from_pretrained(model_name).to(device)\n",
    "model = ModelAdapter(hf_model, tokenizer, device=device)"
   ]
  },
  {
   "cell_type": "code",
   "execution_count": 5,
   "id": "b9043bd8",
   "metadata": {},
   "outputs": [
    {
     "name": "stderr",
     "output_type": "stream",
     "text": [
      "Repo card metadata block was not found. Setting CardData to empty.\n"
     ]
    },
    {
     "data": {
      "application/vnd.jupyter.widget-view+json": {
       "model_id": "8fb280bd6ede4628b136d557218a2d9d",
       "version_major": 2,
       "version_minor": 0
      },
      "text/plain": [
       "Resolving data files:   0%|          | 0/53 [00:00<?, ?it/s]"
      ]
     },
     "metadata": {},
     "output_type": "display_data"
    },
    {
     "name": "stderr",
     "output_type": "stream",
     "text": [
      "  0%|          | 1/1024 [00:05<1:42:17,  6.00s/it]Token indices sequence length is longer than the specified maximum sequence length for this model (12044 > 1024). Running this sequence through the model will result in indexing errors\n",
      "100%|██████████| 1024/1024 [00:09<00:00, 103.24it/s]\n"
     ]
    }
   ],
   "source": [
    "dist_name = 'camel'\n",
    "behavior = distribution_registry[dist_name](model.tokenizer, device=model.device)\n",
    "orig_dists = behavior.input_dists(n_reps=N_REPS_DICT[dist_name])"
   ]
  },
  {
   "cell_type": "code",
   "execution_count": 6,
   "id": "7b925a8d",
   "metadata": {},
   "outputs": [
    {
     "ename": "NameError",
     "evalue": "name 'th' is not defined",
     "output_type": "error",
     "traceback": [
      "\u001b[31m---------------------------------------------------------------------------\u001b[39m",
      "\u001b[31mNameError\u001b[39m                                 Traceback (most recent call last)",
      "\u001b[36mCell\u001b[39m\u001b[36m \u001b[39m\u001b[32mIn[6]\u001b[39m\u001b[32m, line 3\u001b[39m\n\u001b[32m      1\u001b[39m target = \u001b[32m123\u001b[39m  \u001b[38;5;66;03m# some token id\u001b[39;00m\n\u001b[32m      2\u001b[39m temp = \u001b[32m1.0\u001b[39m    \u001b[38;5;66;03m# tune as needed\u001b[39;00m\n\u001b[32m----> \u001b[39m\u001b[32m3\u001b[39m ests = \u001b[43mDA_MHIS\u001b[49m\u001b[43m(\u001b[49m\u001b[43mmodel\u001b[49m\u001b[43m,\u001b[49m\u001b[43m \u001b[49m\u001b[43morig_dists\u001b[49m\u001b[43m,\u001b[49m\u001b[43m \u001b[49m\u001b[43mtarget\u001b[49m\u001b[43m,\u001b[49m\u001b[43m \u001b[49m\u001b[43mtemp\u001b[49m\u001b[43m=\u001b[49m\u001b[43mtemp\u001b[49m\u001b[43m,\u001b[49m\u001b[43m \u001b[49m\u001b[43mn_samples\u001b[49m\u001b[43m=\u001b[49m\u001b[32;43m2\u001b[39;49m\u001b[43m*\u001b[49m\u001b[43m*\u001b[49m\u001b[32;43m12\u001b[39;49m\u001b[43m,\u001b[49m\u001b[43m \u001b[49m\u001b[43mburn_in\u001b[49m\u001b[43m=\u001b[49m\u001b[32;43m2\u001b[39;49m\u001b[43m*\u001b[49m\u001b[43m*\u001b[49m\u001b[32;43m9\u001b[39;49m\u001b[43m,\u001b[49m\u001b[43m \u001b[49m\u001b[43mshow_progress\u001b[49m\u001b[43m=\u001b[49m\u001b[38;5;28;43;01mTrue\u001b[39;49;00m\u001b[43m)\u001b[49m\n\u001b[32m      4\u001b[39m \u001b[38;5;28mprint\u001b[39m(ests)\n",
      "\u001b[36mFile \u001b[39m\u001b[32m/workspace/low-probability-estimation/lpe/da_mhis.py:56\u001b[39m, in \u001b[36mDA_MHIS\u001b[39m\u001b[34m(model, orig_dists, target, temp, n_samples, burn_in, batch_size, show_progress)\u001b[39m\n\u001b[32m     53\u001b[39m onehot.requires_grad_(\u001b[38;5;28;01mTrue\u001b[39;00m)\n\u001b[32m     55\u001b[39m x = onehot @ model.embed.W_E\n\u001b[32m---> \u001b[39m\u001b[32m56\u001b[39m x = x + \u001b[43mmodel\u001b[49m\u001b[43m.\u001b[49m\u001b[43mpos_embed\u001b[49m\u001b[43m(\u001b[49m\u001b[43mcurrent_samples\u001b[49m\u001b[43m)\u001b[49m\n\u001b[32m     57\u001b[39m \u001b[38;5;28;01mfor\u001b[39;00m block \u001b[38;5;129;01min\u001b[39;00m model.blocks:\n\u001b[32m     58\u001b[39m     x = block(x)\n",
      "\u001b[36mFile \u001b[39m\u001b[32m/workspace/low-probability-estimation/lpe/utils/model_adapter.py:16\u001b[39m, in \u001b[36mModelAdapter.__init__.<locals>.pos_embed\u001b[39m\u001b[34m(tokens)\u001b[39m\n\u001b[32m     14\u001b[39m \u001b[38;5;28;01mdef\u001b[39;00m\u001b[38;5;250m \u001b[39m\u001b[34mpos_embed\u001b[39m(tokens):\n\u001b[32m     15\u001b[39m     B, L = tokens.shape\n\u001b[32m---> \u001b[39m\u001b[32m16\u001b[39m     pos = \u001b[43mth\u001b[49m.arange(L, device=tokens.device)[\u001b[38;5;28;01mNone\u001b[39;00m, :].expand(B, L)\n\u001b[32m     17\u001b[39m     \u001b[38;5;28;01mreturn\u001b[39;00m \u001b[38;5;28mself\u001b[39m.hf.transformer.wpe(pos)\n",
      "\u001b[31mNameError\u001b[39m: name 'th' is not defined"
     ]
    }
   ],
   "source": [
    "target = 123  # some token id\n",
    "temp = 1.0    # tune as needed\n",
    "ests = DA_MHIS(model, orig_dists, target, temp=temp, n_samples=2**12, burn_in=2**9, show_progress=True)\n",
    "print(ests)"
   ]
  }
 ],
 "metadata": {
  "kernelspec": {
   "display_name": "Python 3 (ipykernel)",
   "language": "python",
   "name": "python3"
  },
  "language_info": {
   "codemirror_mode": {
    "name": "ipython",
    "version": 3
   },
   "file_extension": ".py",
   "mimetype": "text/x-python",
   "name": "python",
   "nbconvert_exporter": "python",
   "pygments_lexer": "ipython3",
   "version": "3.11.11"
  }
 },
 "nbformat": 4,
 "nbformat_minor": 5
}
