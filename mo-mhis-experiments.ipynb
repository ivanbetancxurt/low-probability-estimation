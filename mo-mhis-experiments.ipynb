{
 "cells": [
  {
   "cell_type": "code",
   "execution_count": null,
   "id": "473eb701",
   "metadata": {
    "vscode": {
     "languageId": "plaintext"
    }
   },
   "outputs": [],
   "source": [
    "import torch as th\n",
    "import sys\n",
    "import os\n",
    "import certifi\n",
    "import matplotlib.pyplot as plt\n",
    "from lpe.methods import MHIS\n",
    "from lpe.method_utils import *\n",
    "from lpe.utils import Transformer\n",
    "from lpe.utils import datasets as lpe_datasets\n",
    "from lpe.utils.model_adapter import ModelAdapter\n",
    "from lpe.mo_mhis import MO_MHIS\n",
    "from transformers import AutoTokenizer, AutoModelForCausalLM"
   ]
  },
  {
   "cell_type": "code",
   "execution_count": null,
   "id": "65ceed9b",
   "metadata": {
    "vscode": {
     "languageId": "plaintext"
    }
   },
   "outputs": [],
   "source": [
    "# Set device\n",
    "device = th.device('cuda' if th.cuda.is_available() else 'cpu')\n",
    "device"
   ]
  },
  {
   "cell_type": "code",
   "execution_count": null,
   "id": "d6ae0fa9",
   "metadata": {
    "vscode": {
     "languageId": "plaintext"
    }
   },
   "outputs": [],
   "source": [
    "# Set model name\n",
    "model_name = 'gelu-1l'"
   ]
  },
  {
   "cell_type": "code",
   "execution_count": null,
   "id": "07460909",
   "metadata": {
    "vscode": {
     "languageId": "plaintext"
    }
   },
   "outputs": [],
   "source": [
    "# Run if toy model\n",
    "model = Transformer.from_pretrained(model_name).to(device)"
   ]
  },
  {
   "cell_type": "code",
   "execution_count": null,
   "id": "708de6bf",
   "metadata": {
    "vscode": {
     "languageId": "plaintext"
    }
   },
   "outputs": [],
   "source": [
    "# Run if HF model\n",
    "# tokenizer = AutoTokenizer.from_pretrained(model_name)\n",
    "# tokenizer.pad_token = tokenizer.eos_token\n",
    "# hf_model = AutoModelForCausalLM.from_pretrained(model_name).to(device)\n",
    "# model = ModelAdapter(hf_model, tokenizer, device=device)"
   ]
  },
  {
   "cell_type": "code",
   "execution_count": null,
   "id": "9cb29948",
   "metadata": {
    "vscode": {
     "languageId": "plaintext"
    }
   },
   "outputs": [],
   "source": [
    "dist_name = 'camel'\n",
    "behavior = distribution_registry[dist_name](model.tokenizer, device=model.device)\n",
    "orig_dists = behavior.input_dists(n_reps=N_REPS_DICT[dist_name])"
   ]
  },
  {
   "cell_type": "code",
   "execution_count": null,
   "id": "cfaa0340",
   "metadata": {
    "vscode": {
     "languageId": "plaintext"
    }
   },
   "outputs": [],
   "source": [
    "# Generate estimates\n",
    "methods = [\"MHIS\", \"MO_MHIS\"]\n",
    "estimates = {}\n",
    "\n",
    "for method in methods:\n",
    "    print(f\"Computing estimates for {method}\")\n",
    "    estimates[method] = {}\n",
    "    for target in tqdm(list(targets)):\n",
    "        if method == \"MHIS\":\n",
    "            estimates[method][target] = MHIS(model, orig_dists, target, temp=RECOMMENDED_TEMPS[model_name][\"MHIS\"][dist_name], n_samples=2**16, burn_in=2**10)\n",
    "        if method == \"MO_MHIS\":\n",
    "            estimates[method][target] = MO_MHIS(model, orig_dists, target, temp=RECOMMENDED_TEMPS[model_name][\"MHIS\"][dist_name], n_samples=2**16, burn_in=2**10)\n"
   ]
  },
  {
   "cell_type": "code",
   "execution_count": null,
   "id": "c921d9f4",
   "metadata": {
    "vscode": {
     "languageId": "plaintext"
    }
   },
   "outputs": [],
   "source": [
    "# Plot the (unfit) estimates\n",
    "plt.figure(figsize=(12, 6))\n",
    "colors = {'MO_MHIS': 'orange', 'MHIS': 'purple'}\n",
    "for method in methods:\n",
    "    estimates_for_method = [estimates[method][target] for target in targets]\n",
    "    plt.scatter(gt_probs[targets].cpu().numpy(), estimates_for_method, label=method, color=colors[method])\n",
    "\n",
    "    # Plot the 0s at the bottom\n",
    "    zero_targets = list(filter(lambda target: estimates[method][target] == 0, targets))\n",
    "    plt.scatter(gt_probs[zero_targets].cpu().numpy(), [1e-9]*len(zero_targets), color=colors[method], marker='x')\n",
    "\n",
    "\n",
    "plt.plot([1e-9, 1e-5], [1e-9, 1e-5], label='ground truth', color='black')\n",
    "plt.xscale('log')\n",
    "plt.yscale('log')\n",
    "plt.xlabel('Ground Truth Probability')\n",
    "plt.ylabel('Estimate')\n",
    "plt.title(f\"Estimates for {dist_name} on {model_name}\")\n",
    "plt.legend()\n",
    "plt.show()"
   ]
  }
 ],
 "metadata": {
  "language_info": {
   "name": "python"
  }
 },
 "nbformat": 4,
 "nbformat_minor": 5
}
